{
 "cells": [
  {
   "cell_type": "code",
   "execution_count": 1,
   "metadata": {},
   "outputs": [],
   "source": [
    "# from sqlalchemy import create_engine\n",
    "\n",
    "# user = 'postgres'\n",
    "# password = 'diy3times'\n",
    "# host = 'localhost'\n",
    "# database = 'postgres'\n",
    "# port = 5432\n",
    "# link = f\"postgresql+psycopg2://{user}:{password}@{host}:{port}/{database}\"\n",
    "# engine = create_engine(link)"
   ]
  },
  {
   "cell_type": "code",
   "execution_count": 2,
   "metadata": {},
   "outputs": [
    {
     "data": {
      "text/html": [
       "<div>\n",
       "<style scoped>\n",
       "    .dataframe tbody tr th:only-of-type {\n",
       "        vertical-align: middle;\n",
       "    }\n",
       "\n",
       "    .dataframe tbody tr th {\n",
       "        vertical-align: top;\n",
       "    }\n",
       "\n",
       "    .dataframe thead th {\n",
       "        text-align: right;\n",
       "    }\n",
       "</style>\n",
       "<table border=\"1\" class=\"dataframe\">\n",
       "  <thead>\n",
       "    <tr style=\"text-align: right;\">\n",
       "      <th></th>\n",
       "      <th>pclass</th>\n",
       "      <th>survived</th>\n",
       "      <th>name</th>\n",
       "      <th>sex</th>\n",
       "      <th>age</th>\n",
       "      <th>sibsp</th>\n",
       "      <th>parch</th>\n",
       "      <th>ticket</th>\n",
       "      <th>fare</th>\n",
       "      <th>cabin</th>\n",
       "      <th>embarked</th>\n",
       "      <th>boat</th>\n",
       "      <th>body</th>\n",
       "      <th>home_dest</th>\n",
       "    </tr>\n",
       "  </thead>\n",
       "  <tbody>\n",
       "    <tr>\n",
       "      <th>0</th>\n",
       "      <td>3</td>\n",
       "      <td>0</td>\n",
       "      <td>Storey, Mr. Thomas</td>\n",
       "      <td>male</td>\n",
       "      <td>60.5</td>\n",
       "      <td>0</td>\n",
       "      <td>0</td>\n",
       "      <td>3701</td>\n",
       "      <td>NaN</td>\n",
       "      <td>None</td>\n",
       "      <td>S</td>\n",
       "      <td>None</td>\n",
       "      <td>261.0</td>\n",
       "      <td>None</td>\n",
       "    </tr>\n",
       "    <tr>\n",
       "      <th>1</th>\n",
       "      <td>1</td>\n",
       "      <td>0</td>\n",
       "      <td>Andrews, Mr. Thomas Jr</td>\n",
       "      <td>male</td>\n",
       "      <td>39.0</td>\n",
       "      <td>0</td>\n",
       "      <td>0</td>\n",
       "      <td>112050</td>\n",
       "      <td>0.0</td>\n",
       "      <td>A36</td>\n",
       "      <td>S</td>\n",
       "      <td>None</td>\n",
       "      <td>NaN</td>\n",
       "      <td>Belfast, NI</td>\n",
       "    </tr>\n",
       "    <tr>\n",
       "      <th>2</th>\n",
       "      <td>1</td>\n",
       "      <td>0</td>\n",
       "      <td>Chisholm, Mr. Roderick Robert Crispin</td>\n",
       "      <td>male</td>\n",
       "      <td>NaN</td>\n",
       "      <td>0</td>\n",
       "      <td>0</td>\n",
       "      <td>112051</td>\n",
       "      <td>0.0</td>\n",
       "      <td>None</td>\n",
       "      <td>S</td>\n",
       "      <td>None</td>\n",
       "      <td>NaN</td>\n",
       "      <td>Liverpool, England / Belfast</td>\n",
       "    </tr>\n",
       "    <tr>\n",
       "      <th>3</th>\n",
       "      <td>1</td>\n",
       "      <td>0</td>\n",
       "      <td>Fry, Mr. Richard</td>\n",
       "      <td>male</td>\n",
       "      <td>NaN</td>\n",
       "      <td>0</td>\n",
       "      <td>0</td>\n",
       "      <td>112058</td>\n",
       "      <td>0.0</td>\n",
       "      <td>B102</td>\n",
       "      <td>S</td>\n",
       "      <td>None</td>\n",
       "      <td>NaN</td>\n",
       "      <td>None</td>\n",
       "    </tr>\n",
       "    <tr>\n",
       "      <th>4</th>\n",
       "      <td>1</td>\n",
       "      <td>0</td>\n",
       "      <td>Harrison, Mr. William</td>\n",
       "      <td>male</td>\n",
       "      <td>40.0</td>\n",
       "      <td>0</td>\n",
       "      <td>0</td>\n",
       "      <td>112059</td>\n",
       "      <td>0.0</td>\n",
       "      <td>B94</td>\n",
       "      <td>S</td>\n",
       "      <td>None</td>\n",
       "      <td>110.0</td>\n",
       "      <td>None</td>\n",
       "    </tr>\n",
       "  </tbody>\n",
       "</table>\n",
       "</div>"
      ],
      "text/plain": [
       "   pclass  survived                                   name   sex   age  sibsp  \\\n",
       "0       3         0                     Storey, Mr. Thomas  male  60.5      0   \n",
       "1       1         0                 Andrews, Mr. Thomas Jr  male  39.0      0   \n",
       "2       1         0  Chisholm, Mr. Roderick Robert Crispin  male   NaN      0   \n",
       "3       1         0                       Fry, Mr. Richard  male   NaN      0   \n",
       "4       1         0                  Harrison, Mr. William  male  40.0      0   \n",
       "\n",
       "   parch  ticket  fare cabin embarked  boat   body  \\\n",
       "0      0    3701   NaN  None        S  None  261.0   \n",
       "1      0  112050   0.0   A36        S  None    NaN   \n",
       "2      0  112051   0.0  None        S  None    NaN   \n",
       "3      0  112058   0.0  B102        S  None    NaN   \n",
       "4      0  112059   0.0   B94        S  None  110.0   \n",
       "\n",
       "                      home_dest  \n",
       "0                          None  \n",
       "1                   Belfast, NI  \n",
       "2  Liverpool, England / Belfast  \n",
       "3                          None  \n",
       "4                          None  "
      ]
     },
     "execution_count": 2,
     "metadata": {},
     "output_type": "execute_result"
    }
   ],
   "source": [
    "from google.cloud import bigquery\n",
    "import pandas as pd\n",
    "\n",
    "service_account = \"/home/kudadiri/.dbt/dbt-project-data.json\"\n",
    "client = bigquery.Client.from_service_account_json(service_account)\n",
    "\n",
    "project, dataset, table = \"resources-node\", \"titanic_dataset\", \"dataset\"\n",
    "\n",
    "table_ref = client.dataset(dataset, project=project).table(table)\n",
    "table = client.get_table(table_ref)\n",
    "\n",
    "df = client.list_rows(table).to_dataframe()\n",
    "df.head()"
   ]
  },
  {
   "cell_type": "markdown",
   "metadata": {},
   "source": [
    "<p>Menggunakan rata-rata umur penumpang yang tersedia, untuk mengisi baris data umur yang kosong<p>"
   ]
  },
  {
   "cell_type": "code",
   "execution_count": 3,
   "metadata": {},
   "outputs": [
    {
     "name": "stdout",
     "output_type": "stream",
     "text": [
      "(1309, 14)\n",
      "pclass          0\n",
      "survived        0\n",
      "name            0\n",
      "sex             0\n",
      "age           263\n",
      "sibsp           0\n",
      "parch           0\n",
      "ticket          0\n",
      "fare            1\n",
      "cabin        1014\n",
      "embarked        2\n",
      "boat          823\n",
      "body         1188\n",
      "home_dest     564\n",
      "dtype: int64\n"
     ]
    },
    {
     "data": {
      "text/plain": [
       "pclass          0\n",
       "survived        0\n",
       "name            0\n",
       "sex             0\n",
       "age             0\n",
       "sibsp           0\n",
       "parch           0\n",
       "ticket          0\n",
       "fare            1\n",
       "cabin        1014\n",
       "embarked        2\n",
       "boat          823\n",
       "body         1188\n",
       "home_dest     564\n",
       "dtype: int64"
      ]
     },
     "execution_count": 3,
     "metadata": {},
     "output_type": "execute_result"
    }
   ],
   "source": [
    "print(df.shape)\n",
    "print(df.isnull().sum())\n",
    "\n",
    "age_average = round(df['age'].mean())\n",
    "df.fillna({'age':age_average}, inplace=True)\n",
    "\n",
    "df.isnull().sum()"
   ]
  },
  {
   "cell_type": "code",
   "execution_count": 4,
   "metadata": {},
   "outputs": [
    {
     "name": "stdout",
     "output_type": "stream",
     "text": [
      "   ticket cabin  boat   body                     home_dest\n",
      "0    3701  None  None  261.0                          None\n",
      "1  112050   A36  None    NaN                   Belfast, NI\n",
      "2  112051  None  None    NaN  Liverpool, England / Belfast\n",
      "3  112058  B102  None    NaN                          None\n",
      "4  112059   B94  None  110.0                          None\n",
      "5  112052  None  None    NaN                       Belfast\n",
      "6   19972  None  None    NaN        Rotterdam, Netherlands\n",
      "7  239853  None  None    NaN                       Belfast\n",
      "8  239853  None  None    NaN                       Belfast\n",
      "9  239854  None  None    NaN                       Belfast\n",
      "\n",
      "       ticket cabin boat  body       home_dest\n",
      "823    111163  None    1   NaN    New York, NY\n",
      "824     11778  C116    1   NaN      Newark, NJ\n",
      "825  PC 17485   A20    1   NaN  London / Paris\n",
      "826  PC 17485   E36    1   NaN            None\n",
      "827     11755   A16    1   NaN  London / Paris\n",
      "\n",
      "                ticket cabin  boat   body                    home_dest\n",
      "0                 3701  None  None  261.0                         None\n",
      "4               112059   B94  None  110.0                         None\n",
      "21              C 7076  None  None   72.0  Asarum, Sweden Brooklyn, NY\n",
      "33  SOTON/O.Q. 3101262  None  None   32.0                         None\n",
      "42              370369  None  None  171.0                         None\n"
     ]
    }
   ],
   "source": [
    "select = df[['ticket', 'cabin', 'boat', 'body', 'home_dest']]\n",
    "print(select.head(10))\n",
    "print()\n",
    "print(select[select['boat'].notnull()].head())\n",
    "print()\n",
    "print(select[select['body'].notnull()].head())"
   ]
  },
  {
   "cell_type": "markdown",
   "metadata": {},
   "source": [
    "<p>dikarenakan terlalu berisiko untuk menghapus kolom tersebut, diambil keputusan diisi dengan nilai atau keterangan yang menandakan nilai baris kolom tidak diketahui</p>"
   ]
  },
  {
   "cell_type": "code",
   "execution_count": 5,
   "metadata": {},
   "outputs": [
    {
     "name": "stdout",
     "output_type": "stream",
     "text": [
      "ticket        object\n",
      "cabin         object\n",
      "boat          object\n",
      "body         float64\n",
      "home_dest     object\n",
      "dtype: object\n"
     ]
    },
    {
     "data": {
      "text/plain": [
       "pclass       0\n",
       "survived     0\n",
       "name         0\n",
       "sex          0\n",
       "age          0\n",
       "sibsp        0\n",
       "parch        0\n",
       "ticket       0\n",
       "fare         1\n",
       "cabin        0\n",
       "embarked     2\n",
       "boat         0\n",
       "body         0\n",
       "home_dest    0\n",
       "dtype: int64"
      ]
     },
     "execution_count": 5,
     "metadata": {},
     "output_type": "execute_result"
    }
   ],
   "source": [
    "# print(df[['ticket', 'cabin', 'home_dest']].head(27))\n",
    "print(select.dtypes)\n",
    "\n",
    "df.fillna({'cabin': 'Unknown', 'boat': 'No Boat', 'body': 0, 'home_dest': 'Unknown'}, inplace=True)\n",
    "df.isnull().sum()"
   ]
  },
  {
   "cell_type": "code",
   "execution_count": 6,
   "metadata": {},
   "outputs": [
    {
     "data": {
      "text/plain": [
       "pclass       0\n",
       "survived     0\n",
       "name         0\n",
       "sex          0\n",
       "age          0\n",
       "sibsp        0\n",
       "parch        0\n",
       "ticket       0\n",
       "fare         0\n",
       "cabin        0\n",
       "embarked     0\n",
       "boat         0\n",
       "body         0\n",
       "home_dest    0\n",
       "dtype: int64"
      ]
     },
     "execution_count": 6,
     "metadata": {},
     "output_type": "execute_result"
    }
   ],
   "source": [
    "# print(df[df['fare'].isnull()], '\\n')\n",
    "# print(df[df['embarked'].isnull()])\n",
    "\n",
    "df.dropna(inplace=True)\n",
    "df.isnull().sum()"
   ]
  },
  {
   "cell_type": "code",
   "execution_count": 11,
   "metadata": {},
   "outputs": [],
   "source": [
    "# df.to_sql(\n",
    "#     \"../models/titanic_data.sql\",\n",
    "#     con=engine,\n",
    "#     if_exists='replace',\n",
    "#     index=False)\n",
    "\n",
    "df.to_csv(\"../seeds/titanic_data.csv\", index=False)"
   ]
  }
 ],
 "metadata": {
  "kernelspec": {
   "display_name": "Python 3",
   "language": "python",
   "name": "python3"
  },
  "language_info": {
   "codemirror_mode": {
    "name": "ipython",
    "version": 3
   },
   "file_extension": ".py",
   "mimetype": "text/x-python",
   "name": "python",
   "nbconvert_exporter": "python",
   "pygments_lexer": "ipython3",
   "version": "3.10.12"
  }
 },
 "nbformat": 4,
 "nbformat_minor": 2
}
